{
 "cells": [
  {
   "cell_type": "code",
   "execution_count": 1,
   "metadata": {},
   "outputs": [],
   "source": [
    "from sklearn.metrics import silhouette_samples, silhouette_score\n",
    "import matplotlib.pyplot as plt\n",
    "import numpy as np\n",
    "import pandas as pd"
   ]
  },
  {
   "cell_type": "code",
   "execution_count": 2,
   "metadata": {},
   "outputs": [],
   "source": [
    "df = pd.read_csv(r'C:\\Users\\Admin\\Documents\\Capstone Project\\IBM Churn.csv')"
   ]
  },
  {
   "cell_type": "markdown",
   "metadata": {},
   "source": [
    "# Impute Missing Value"
   ]
  },
  {
   "cell_type": "code",
   "execution_count": 3,
   "metadata": {},
   "outputs": [],
   "source": [
    "charges = list(df['TotalCharges'])\n",
    "charges = [x for x in charges if x != ' ']\n",
    "charges = [float(x) for x in charges if x != ' ']"
   ]
  },
  {
   "cell_type": "code",
   "execution_count": 4,
   "metadata": {},
   "outputs": [],
   "source": [
    "charges_mean = np.mean(charges)\n",
    "df['TotalCharges'] = df['TotalCharges'].apply(lambda x: charges_mean if x == ' ' else x)\n",
    "df['TotalCharges'] = df['TotalCharges'].astype(float)"
   ]
  },
  {
   "cell_type": "markdown",
   "metadata": {},
   "source": [
    "# Log Transformation"
   ]
  },
  {
   "cell_type": "code",
   "execution_count": 5,
   "metadata": {},
   "outputs": [],
   "source": [
    "columns = ['tenure', 'MonthlyCharges', 'TotalCharges']\n",
    "\n",
    "for column in columns:\n",
    "  df[column+'_log'] = np.log(df[column]+0.1)"
   ]
  },
  {
   "cell_type": "markdown",
   "metadata": {},
   "source": [
    "# Clustering Analysis"
   ]
  },
  {
   "cell_type": "code",
   "execution_count": 6,
   "metadata": {},
   "outputs": [],
   "source": [
    "def silhouette_check_agglo(df,columns):\n",
    "  range_n_clusters = [2, 3, 4, 5, 6, 7, 8, 9, 10, 11, 12]\n",
    "  silhouette_list = []\n",
    "  cluster_list = []\n",
    "\n",
    "  for n_clusters in range_n_clusters:\n",
    "      # Initialize the clusterer with n_clusters value and a random generator\n",
    "      # seed of 10 for reproducibility.\n",
    "      from sklearn.cluster import AgglomerativeClustering\n",
    "      cluster_list.append(n_clusters)\n",
    "      cluster = AgglomerativeClustering(n_clusters=n_clusters, affinity='euclidean', linkage='ward')  \n",
    "      cluster_labels = cluster.fit_predict(df[columns])\n",
    "\n",
    "      # The silhouette_score gives the average value for all the samples.\n",
    "      # This gives a perspective into the density and separation of the formed\n",
    "      # clusters\n",
    "      silhouette_avg = silhouette_score(df[columns], cluster_labels)\n",
    "      silhouette_list.append(silhouette_avg)\n",
    "      print(\"For n_clusters =\", n_clusters,\n",
    "            \"The average silhouette_score is :\", silhouette_avg)\n",
    "      \n",
    "  plt.plot(cluster_list,silhouette_list)  \n",
    "\n",
    "columns = ['tenure_log', 'TotalCharges_log']"
   ]
  },
  {
   "cell_type": "code",
   "execution_count": 7,
   "metadata": {},
   "outputs": [
    {
     "name": "stdout",
     "output_type": "stream",
     "text": [
      "For n_clusters = 2 The average silhouette_score is : 0.5347265743958682\n",
      "For n_clusters = 3 The average silhouette_score is : 0.5427650095498794\n",
      "For n_clusters = 4 The average silhouette_score is : 0.4472177089760178\n",
      "For n_clusters = 5 The average silhouette_score is : 0.4245225654540812\n",
      "For n_clusters = 6 The average silhouette_score is : 0.4167733103786472\n",
      "For n_clusters = 7 The average silhouette_score is : 0.4250772730023145\n",
      "For n_clusters = 8 The average silhouette_score is : 0.4490332653043902\n",
      "For n_clusters = 9 The average silhouette_score is : 0.45098005975529787\n",
      "For n_clusters = 10 The average silhouette_score is : 0.4399664584214938\n",
      "For n_clusters = 11 The average silhouette_score is : 0.4532618285407518\n",
      "For n_clusters = 12 The average silhouette_score is : 0.4725749008354397\n"
     ]
    },
    {
     "data": {
      "image/png": "[encoded data removed]",
      "text/plain": [
       "<Figure size 432x288 with 1 Axes>"
      ]
     },
     "metadata": {
      "needs_background": "light"
     },
     "output_type": "display_data"
    }
   ],
   "source": [
    "silhouette_check_agglo(df,columns)"
   ]
  },
  {
   "cell_type": "code",
   "execution_count": 8,
   "metadata": {},
   "outputs": [
    {
     "data": {
      "image/png": "[encoded data removed]",
      "text/plain": [
       "<Figure size 720x504 with 1 Axes>"
      ]
     },
     "metadata": {
      "needs_background": "light"
     },
     "output_type": "display_data"
    }
   ],
   "source": [
    "columns = ['tenure_log', 'TotalCharges_log']\n",
    "import scipy.cluster.hierarchy as shc\n",
    "plt.figure(figsize=(10, 7))  \n",
    "plt.title(\"Dendrograms\")  \n",
    "dend = shc.dendrogram(shc.linkage(df[columns], method='ward'))"
   ]
  },
  {
   "cell_type": "code",
   "execution_count": null,
   "metadata": {},
   "outputs": [],
   "source": [
    "from sklearn.cluster import AgglomerativeClustering\n",
    "cluster = AgglomerativeClustering(n_clusters=3, affinity='euclidean', linkage='ward')  \n",
    "cust_val_cluster = cluster.fit_predict(df[columns])"
   ]
  },
  {
   "cell_type": "code",
   "execution_count": null,
   "metadata": {},
   "outputs": [],
   "source": [
    "columns = ['MonthlyCharges_log', 'TotalCharges_log']"
   ]
  },
  {
   "cell_type": "code",
   "execution_count": null,
   "metadata": {},
   "outputs": [],
   "source": [
    "silhouette_check_agglo(df,columns)"
   ]
  },
  {
   "cell_type": "code",
   "execution_count": null,
   "metadata": {},
   "outputs": [],
   "source": [
    "columns = ['MonthlyCharges_log', 'TotalCharges_log']\n",
    "import scipy.cluster.hierarchy as shc\n",
    "plt.figure(figsize=(10, 7))  \n",
    "plt.title(\"Dendrograms\")  \n",
    "dend = shc.dendrogram(shc.linkage(df[columns], method='ward'))"
   ]
  },
  {
   "cell_type": "code",
   "execution_count": null,
   "metadata": {},
   "outputs": [],
   "source": [
    "from sklearn.cluster import AgglomerativeClustering\n",
    "cluster = AgglomerativeClustering(n_clusters=2, affinity='euclidean', linkage='ward')  \n",
    "month_vs_total_cluster = cluster.fit_predict(df[columns])"
   ]
  },
  {
   "cell_type": "code",
   "execution_count": null,
   "metadata": {},
   "outputs": [],
   "source": [
    "df['cust_val_cluster'] = cust_val_cluster\n",
    "df['month_vs_total_cluster'] = month_vs_total_cluster"
   ]
  },
  {
   "cell_type": "markdown",
   "metadata": {},
   "source": [
    "# Association Rule Mining"
   ]
  },
  {
   "cell_type": "code",
   "execution_count": null,
   "metadata": {},
   "outputs": [],
   "source": [
    "df_sel = df[['customerID', 'gender', 'SeniorCitizen', 'Partner', 'Dependents',\n",
    "       'PhoneService', 'MultipleLines', 'InternetService',\n",
    "       'OnlineSecurity', 'OnlineBackup', 'DeviceProtection', 'TechSupport',\n",
    "       'StreamingTV', 'StreamingMovies', 'Contract', 'PaperlessBilling',\n",
    "       'PaymentMethod','Churn',\n",
    "       'cust_val_cluster', 'month_vs_total_cluster']]"
   ]
  },
  {
   "cell_type": "code",
   "execution_count": null,
   "metadata": {},
   "outputs": [],
   "source": [
    "df_sel = df_sel.melt(id_vars=['customerID'], var_name='event',\n",
    "             value_name='event type')"
   ]
  },
  {
   "cell_type": "code",
   "execution_count": null,
   "metadata": {},
   "outputs": [],
   "source": [
    "cols = ['event', 'event type']\n",
    "df_sel['new event'] = df_sel[cols].apply(lambda row: ': '.join(row.values.astype(str)), axis=1)"
   ]
  },
  {
   "cell_type": "code",
   "execution_count": null,
   "metadata": {},
   "outputs": [],
   "source": [
    "df_sel['Indicator'] = 1"
   ]
  },
  {
   "cell_type": "code",
   "execution_count": null,
   "metadata": {},
   "outputs": [],
   "source": [
    "mybasket = (df_sel.groupby(['customerID','new event'])['Indicator'].sum().unstack().reset_index().fillna(0).set_index('customerID'))"
   ]
  },
  {
   "cell_type": "code",
   "execution_count": null,
   "metadata": {},
   "outputs": [],
   "source": [
    "def my_encode_units(x):\n",
    "    if x <= 0:\n",
    "        return 0\n",
    "    if x >= 1:\n",
    "        return 1\n",
    "\n",
    "my_basket_sets = mybasket.applymap(my_encode_units)"
   ]
  },
  {
   "cell_type": "code",
   "execution_count": null,
   "metadata": {},
   "outputs": [],
   "source": [
    "from mlxtend.frequent_patterns import apriori\n",
    "from mlxtend.frequent_patterns import association_rules\n",
    "#Generatig frequent itemsets\n",
    "my_frequent_itemsets = apriori(my_basket_sets, min_support=0.05, use_colnames=True, max_len = 3)"
   ]
  },
  {
   "cell_type": "code",
   "execution_count": null,
   "metadata": {},
   "outputs": [],
   "source": [
    "my_frequent_itemsets.sort_values(['support'], ascending =[False])"
   ]
  },
  {
   "cell_type": "code",
   "execution_count": null,
   "metadata": {},
   "outputs": [],
   "source": [
    "rules = association_rules(my_frequent_itemsets, metric = 'lift', \n",
    "                          min_threshold = 1.0)"
   ]
  },
  {
   "cell_type": "code",
   "execution_count": null,
   "metadata": {},
   "outputs": [],
   "source": [
    "churn_rules = rules.loc[rules['antecedents'] == frozenset({'Churn: Yes'}) ].sort_values(['support'], ascending =[False])"
   ]
  },
  {
   "cell_type": "code",
   "execution_count": null,
   "metadata": {},
   "outputs": [],
   "source": [
    "np.median(churn_rules['lift'])"
   ]
  },
  {
   "cell_type": "code",
   "execution_count": null,
   "metadata": {},
   "outputs": [],
   "source": [
    "new_list = [list(x) for x in churn_rules.loc[churn_rules['lift'] >= 1.5214123549743264]['consequents']]"
   ]
  },
  {
   "cell_type": "code",
   "execution_count": null,
   "metadata": {},
   "outputs": [],
   "source": [
    "churn_rules_support_df = pd.DataFrame(new_list).rename(columns = {0 : 'First', 1 : 'Second'})"
   ]
  },
  {
   "cell_type": "code",
   "execution_count": null,
   "metadata": {},
   "outputs": [],
   "source": [
    "churn_lift = churn_rules.loc[churn_rules['lift'] >= 1.5214123549743264][['lift','support']].reset_index()\n",
    "churn_rules_support_df['lift'] = churn_lift['lift']\n",
    "churn_rules_support_df['support'] = churn_lift['support']\n",
    "churn_rules_support_df.loc[churn_rules_support_df['Second'].isnull() == False].head(50)"
   ]
  },
  {
   "cell_type": "code",
   "execution_count": null,
   "metadata": {},
   "outputs": [],
   "source": [
    "new_list_lift = [list(x) for x in churn_rules.loc[churn_rules['lift'] >= 1.5214123549743264].sort_values(['lift'], ascending =[False])['consequents']]"
   ]
  },
  {
   "cell_type": "code",
   "execution_count": null,
   "metadata": {},
   "outputs": [],
   "source": [
    "churn_rules_lift_df = pd.DataFrame(new_list_lift).rename(columns = {0 : 'First', 1 : 'Second'})"
   ]
  },
  {
   "cell_type": "code",
   "execution_count": null,
   "metadata": {},
   "outputs": [],
   "source": [
    "churn_lift_lift = churn_rules.loc[churn_rules['lift'] >= 1.5214123549743264].sort_values(['lift'], ascending =[False])[['lift','support']].reset_index()\n",
    "churn_rules_lift_df['lift'] = churn_lift_lift ['lift']\n",
    "churn_rules_lift_df['support'] = churn_lift_lift ['support']\n",
    "churn_rules_lift_df.head(50)"
   ]
  },
  {
   "cell_type": "markdown",
   "metadata": {},
   "source": [
    "# WoE Encoding"
   ]
  },
  {
   "cell_type": "code",
   "execution_count": 9,
   "metadata": {},
   "outputs": [
    {
     "data": {
      "text/html": [
       "<div>\n",
       "<style scoped>\n",
       "    .dataframe tbody tr th:only-of-type {\n",
       "        vertical-align: middle;\n",
       "    }\n",
       "\n",
       "    .dataframe tbody tr th {\n",
       "        vertical-align: top;\n",
       "    }\n",
       "\n",
       "    .dataframe thead th {\n",
       "        text-align: right;\n",
       "    }\n",
       "</style>\n",
       "<table border=\"1\" class=\"dataframe\">\n",
       "  <thead>\n",
       "    <tr style=\"text-align: right;\">\n",
       "      <th></th>\n",
       "      <th>Contract</th>\n",
       "      <th>PhoneService</th>\n",
       "      <th>CON_PS_WoE</th>\n",
       "    </tr>\n",
       "  </thead>\n",
       "  <tbody>\n",
       "    <tr>\n",
       "      <th>0</th>\n",
       "      <td>Month-to-month</td>\n",
       "      <td>No</td>\n",
       "      <td>-0.376734</td>\n",
       "    </tr>\n",
       "    <tr>\n",
       "      <th>1</th>\n",
       "      <td>Month-to-month</td>\n",
       "      <td>Yes</td>\n",
       "      <td>-0.284849</td>\n",
       "    </tr>\n",
       "    <tr>\n",
       "      <th>2</th>\n",
       "      <td>One year</td>\n",
       "      <td>No</td>\n",
       "      <td>-2.236140</td>\n",
       "    </tr>\n",
       "    <tr>\n",
       "      <th>3</th>\n",
       "      <td>One year</td>\n",
       "      <td>Yes</td>\n",
       "      <td>-2.045994</td>\n",
       "    </tr>\n",
       "    <tr>\n",
       "      <th>4</th>\n",
       "      <td>Two year</td>\n",
       "      <td>No</td>\n",
       "      <td>-3.963983</td>\n",
       "    </tr>\n",
       "    <tr>\n",
       "      <th>5</th>\n",
       "      <td>Two year</td>\n",
       "      <td>Yes</td>\n",
       "      <td>-3.499198</td>\n",
       "    </tr>\n",
       "  </tbody>\n",
       "</table>\n",
       "</div>"
      ],
      "text/plain": [
       "         Contract PhoneService  CON_PS_WoE\n",
       "0  Month-to-month           No   -0.376734\n",
       "1  Month-to-month          Yes   -0.284849\n",
       "2        One year           No   -2.236140\n",
       "3        One year          Yes   -2.045994\n",
       "4        Two year           No   -3.963983\n",
       "5        Two year          Yes   -3.499198"
      ]
     },
     "execution_count": 9,
     "metadata": {},
     "output_type": "execute_result"
    }
   ],
   "source": [
    "df.Churn = df.Churn.apply(lambda x: 1 if x == 'Yes' else 0 )\n",
    "CON_PS = df.groupby(['Contract','PhoneService'])['Churn'].mean()\n",
    "CON_PS = pd.DataFrame(CON_PS)\n",
    "\n",
    "CON_PS = CON_PS.rename(columns = {'Churn':'Churn'})\n",
    "CON_PS['not churn'] = 1-CON_PS.Churn\n",
    "CON_PS['Churn'] = np.where(CON_PS['Churn']  == 0, 0.00001, CON_PS['Churn'])\n",
    "CON_PS['not churn'] = np.where(CON_PS['not churn']  == 0, 0.00001, CON_PS['not churn'])\n",
    "CON_PS['CON_PS_WoE'] = np.log(CON_PS.Churn/CON_PS['not churn'])\n",
    "CON_PS.reset_index(inplace=True)\n",
    "CON_PS = CON_PS[['Contract','PhoneService','CON_PS_WoE']]\n",
    "CON_PS"
   ]
  },
  {
   "cell_type": "code",
   "execution_count": 10,
   "metadata": {},
   "outputs": [
    {
     "data": {
      "text/html": [
       "<div>\n",
       "<style scoped>\n",
       "    .dataframe tbody tr th:only-of-type {\n",
       "        vertical-align: middle;\n",
       "    }\n",
       "\n",
       "    .dataframe tbody tr th {\n",
       "        vertical-align: top;\n",
       "    }\n",
       "\n",
       "    .dataframe thead th {\n",
       "        text-align: right;\n",
       "    }\n",
       "</style>\n",
       "<table border=\"1\" class=\"dataframe\">\n",
       "  <thead>\n",
       "    <tr style=\"text-align: right;\">\n",
       "      <th></th>\n",
       "      <th>Contract</th>\n",
       "      <th>Dependents</th>\n",
       "      <th>CON_DEP_WoE</th>\n",
       "    </tr>\n",
       "  </thead>\n",
       "  <tbody>\n",
       "    <tr>\n",
       "      <th>0</th>\n",
       "      <td>Month-to-month</td>\n",
       "      <td>No</td>\n",
       "      <td>-0.191118</td>\n",
       "    </tr>\n",
       "    <tr>\n",
       "      <th>1</th>\n",
       "      <td>Month-to-month</td>\n",
       "      <td>Yes</td>\n",
       "      <td>-0.716049</td>\n",
       "    </tr>\n",
       "    <tr>\n",
       "      <th>2</th>\n",
       "      <td>One year</td>\n",
       "      <td>No</td>\n",
       "      <td>-1.953209</td>\n",
       "    </tr>\n",
       "    <tr>\n",
       "      <th>3</th>\n",
       "      <td>One year</td>\n",
       "      <td>Yes</td>\n",
       "      <td>-2.286124</td>\n",
       "    </tr>\n",
       "    <tr>\n",
       "      <th>4</th>\n",
       "      <td>Two year</td>\n",
       "      <td>No</td>\n",
       "      <td>-3.373027</td>\n",
       "    </tr>\n",
       "    <tr>\n",
       "      <th>5</th>\n",
       "      <td>Two year</td>\n",
       "      <td>Yes</td>\n",
       "      <td>-3.758613</td>\n",
       "    </tr>\n",
       "  </tbody>\n",
       "</table>\n",
       "</div>"
      ],
      "text/plain": [
       "         Contract Dependents  CON_DEP_WoE\n",
       "0  Month-to-month         No    -0.191118\n",
       "1  Month-to-month        Yes    -0.716049\n",
       "2        One year         No    -1.953209\n",
       "3        One year        Yes    -2.286124\n",
       "4        Two year         No    -3.373027\n",
       "5        Two year        Yes    -3.758613"
      ]
     },
     "execution_count": 10,
     "metadata": {},
     "output_type": "execute_result"
    }
   ],
   "source": [
    "CON_DEP = df.groupby(['Contract','Dependents'])['Churn'].mean()\n",
    "CON_DEP = pd.DataFrame(CON_DEP)\n",
    "\n",
    "CON_DEP = CON_DEP.rename(columns = {'Churn':'Churn'})\n",
    "CON_DEP['not churn'] = 1-CON_DEP.Churn\n",
    "CON_DEP['Churn'] = np.where(CON_DEP['Churn']  == 0, 0.00001, CON_DEP['Churn'])\n",
    "CON_DEP['not churn'] = np.where(CON_DEP['not churn']  == 0, 0.00001, CON_DEP['not churn'])\n",
    "CON_DEP['CON_DEP_WoE'] = np.log(CON_DEP.Churn/CON_DEP['not churn'])\n",
    "CON_DEP.reset_index(inplace=True)\n",
    "CON_DEP = CON_DEP[['Contract','Dependents','CON_DEP_WoE']]\n",
    "CON_DEP"
   ]
  },
  {
   "cell_type": "code",
   "execution_count": 11,
   "metadata": {},
   "outputs": [
    {
     "data": {
      "text/html": [
       "<div>\n",
       "<style scoped>\n",
       "    .dataframe tbody tr th:only-of-type {\n",
       "        vertical-align: middle;\n",
       "    }\n",
       "\n",
       "    .dataframe tbody tr th {\n",
       "        vertical-align: top;\n",
       "    }\n",
       "\n",
       "    .dataframe thead th {\n",
       "        text-align: right;\n",
       "    }\n",
       "</style>\n",
       "<table border=\"1\" class=\"dataframe\">\n",
       "  <thead>\n",
       "    <tr style=\"text-align: right;\">\n",
       "      <th></th>\n",
       "      <th>Contract</th>\n",
       "      <th>TechSupport</th>\n",
       "      <th>CON_TS_WoE</th>\n",
       "    </tr>\n",
       "  </thead>\n",
       "  <tbody>\n",
       "    <tr>\n",
       "      <th>0</th>\n",
       "      <td>Month-to-month</td>\n",
       "      <td>No</td>\n",
       "      <td>0.014926</td>\n",
       "    </tr>\n",
       "    <tr>\n",
       "      <th>1</th>\n",
       "      <td>Month-to-month</td>\n",
       "      <td>No internet service</td>\n",
       "      <td>-1.456969</td>\n",
       "    </tr>\n",
       "    <tr>\n",
       "      <th>2</th>\n",
       "      <td>Month-to-month</td>\n",
       "      <td>Yes</td>\n",
       "      <td>-0.814161</td>\n",
       "    </tr>\n",
       "    <tr>\n",
       "      <th>3</th>\n",
       "      <td>One year</td>\n",
       "      <td>No</td>\n",
       "      <td>-1.756596</td>\n",
       "    </tr>\n",
       "    <tr>\n",
       "      <th>4</th>\n",
       "      <td>One year</td>\n",
       "      <td>No internet service</td>\n",
       "      <td>-3.674893</td>\n",
       "    </tr>\n",
       "    <tr>\n",
       "      <th>5</th>\n",
       "      <td>One year</td>\n",
       "      <td>Yes</td>\n",
       "      <td>-1.850028</td>\n",
       "    </tr>\n",
       "    <tr>\n",
       "      <th>6</th>\n",
       "      <td>Two year</td>\n",
       "      <td>No</td>\n",
       "      <td>-2.763620</td>\n",
       "    </tr>\n",
       "    <tr>\n",
       "      <th>7</th>\n",
       "      <td>Two year</td>\n",
       "      <td>No internet service</td>\n",
       "      <td>-4.841033</td>\n",
       "    </tr>\n",
       "    <tr>\n",
       "      <th>8</th>\n",
       "      <td>Two year</td>\n",
       "      <td>Yes</td>\n",
       "      <td>-3.307266</td>\n",
       "    </tr>\n",
       "  </tbody>\n",
       "</table>\n",
       "</div>"
      ],
      "text/plain": [
       "         Contract          TechSupport  CON_TS_WoE\n",
       "0  Month-to-month                   No    0.014926\n",
       "1  Month-to-month  No internet service   -1.456969\n",
       "2  Month-to-month                  Yes   -0.814161\n",
       "3        One year                   No   -1.756596\n",
       "4        One year  No internet service   -3.674893\n",
       "5        One year                  Yes   -1.850028\n",
       "6        Two year                   No   -2.763620\n",
       "7        Two year  No internet service   -4.841033\n",
       "8        Two year                  Yes   -3.307266"
      ]
     },
     "execution_count": 11,
     "metadata": {},
     "output_type": "execute_result"
    }
   ],
   "source": [
    "CON_TS = df.groupby(['Contract','TechSupport'])['Churn'].mean()\n",
    "CON_TS = pd.DataFrame(CON_TS)\n",
    "\n",
    "CON_TS = CON_TS.rename(columns = {'Churn':'Churn'})\n",
    "CON_TS['not churn'] = 1-CON_TS.Churn\n",
    "CON_TS['Churn'] = np.where(CON_TS['Churn']  == 0, 0.00001, CON_TS['Churn'])\n",
    "CON_TS['not churn'] = np.where(CON_TS['not churn']  == 0, 0.00001, CON_TS['not churn'])\n",
    "CON_TS['CON_TS_WoE'] = np.log(CON_TS.Churn/CON_TS['not churn'])\n",
    "CON_TS.reset_index(inplace=True)\n",
    "CON_TS = CON_TS[['Contract','TechSupport','CON_TS_WoE']]\n",
    "CON_TS"
   ]
  },
  {
   "cell_type": "code",
   "execution_count": null,
   "metadata": {},
   "outputs": [],
   "source": [
    "CON_OS = df.groupby(['Contract','OnlineSecurity'])['Churn'].mean()\n",
    "CON_OS = pd.DataFrame(CON_OS)\n",
    "\n",
    "CON_OS = CON_OS.rename(columns = {'Churn':'Churn'})\n",
    "CON_OS['not churn'] = 1-CON_OS.Churn\n",
    "CON_OS['Churn'] = np.where(CON_OS['Churn']  == 0, 0.00001, CON_OS['Churn'])\n",
    "CON_OS['not churn'] = np.where(CON_OS['not churn']  == 0, 0.00001, CON_OS['not churn'])\n",
    "CON_OS['CON_OS_WoE'] = np.log(CON_OS.Churn/CON_OS['not churn'])\n",
    "CON_OS.reset_index(inplace=True)\n",
    "CON_OS = CON_OS[['Contract','OnlineSecurity','CON_OS_WoE']]\n",
    "CON_OS"
   ]
  },
  {
   "cell_type": "code",
   "execution_count": null,
   "metadata": {},
   "outputs": [],
   "source": [
    "PS_OS = df.groupby(['PhoneService','OnlineSecurity'])['Churn'].mean()\n",
    "PS_OS = pd.DataFrame(PS_OS)\n",
    "\n",
    "PS_OS = PS_OS.rename(columns = {'Churn':'Churn'})\n",
    "PS_OS['not churn'] = 1-PS_OS.Churn\n",
    "PS_OS['Churn'] = np.where(PS_OS['Churn']  == 0, 0.00001, PS_OS['Churn'])\n",
    "PS_OS['not churn'] = np.where(PS_OS['not churn']  == 0, 0.00001, PS_OS['not churn'])\n",
    "PS_OS['PS_OS_WoE'] = np.log(PS_OS.Churn/PS_OS['not churn'])\n",
    "PS_OS.reset_index(inplace=True)\n",
    "PS_OS = PS_OS[['PhoneService','OnlineSecurity','PS_OS_WoE']]\n",
    "PS_OS"
   ]
  },
  {
   "cell_type": "code",
   "execution_count": null,
   "metadata": {},
   "outputs": [],
   "source": [
    "PS_TS = df.groupby(['PhoneService','TechSupport'])['Churn'].mean()\n",
    "PS_TS = pd.DataFrame(PS_TS)\n",
    "\n",
    "PS_TS = PS_TS.rename(columns = {'Churn':'Churn'})\n",
    "PS_TS['not churn'] = 1-PS_TS.Churn\n",
    "PS_TS['Churn'] = np.where(PS_TS['Churn']  == 0, 0.00001, PS_TS['Churn'])\n",
    "PS_TS['not churn'] = np.where(PS_TS['not churn']  == 0, 0.00001, PS_TS['not churn'])\n",
    "PS_TS['PS_TS_WoE'] = np.log(PS_TS.Churn/PS_TS['not churn'])\n",
    "PS_TS.reset_index(inplace=True)\n",
    "PS_TS = PS_TS[['PhoneService','TechSupport','PS_TS_WoE']]\n",
    "PS_TS"
   ]
  },
  {
   "cell_type": "code",
   "execution_count": null,
   "metadata": {},
   "outputs": [],
   "source": [
    "PS_IS = df.groupby(['PhoneService','InternetService'])['Churn'].mean()\n",
    "PS_IS = pd.DataFrame(PS_IS)\n",
    "\n",
    "PS_IS = PS_IS.rename(columns = {'Churn':'Churn'})\n",
    "PS_IS['not churn'] = 1-PS_IS.Churn\n",
    "PS_IS['Churn'] = np.where(PS_IS['Churn']  == 0, 0.00001, PS_IS['Churn'])\n",
    "PS_IS['not churn'] = np.where(PS_IS['not churn']  == 0, 0.00001, PS_IS['not churn'])\n",
    "PS_IS['PS_IS_WoE'] = np.log(PS_IS.Churn/PS_IS['not churn'])\n",
    "PS_IS.reset_index(inplace=True)\n",
    "PS_IS = PS_IS[['PhoneService','InternetService','PS_IS_WoE']]\n",
    "PS_IS"
   ]
  },
  {
   "cell_type": "code",
   "execution_count": null,
   "metadata": {},
   "outputs": [],
   "source": [
    "TS_OS = df.groupby(['TechSupport','OnlineSecurity'])['Churn'].mean()\n",
    "TS_OS = pd.DataFrame(TS_OS)\n",
    "\n",
    "TS_OS = TS_OS.rename(columns = {'Churn':'Churn'})\n",
    "TS_OS['not churn'] = 1-TS_OS.Churn\n",
    "TS_OS['Churn'] = np.where(TS_OS['Churn']  == 0, 0.00001, TS_OS['Churn'])\n",
    "TS_OS['not churn'] = np.where(TS_OS['not churn']  == 0, 0.00001, TS_OS['not churn'])\n",
    "TS_OS['TS_OS_WoE'] = np.log(TS_OS.Churn/TS_OS['not churn'])\n",
    "TS_OS.reset_index(inplace=True)\n",
    "TS_OS = TS_OS[['TechSupport','OnlineSecurity','TS_OS_WoE']]\n",
    "TS_OS"
   ]
  },
  {
   "cell_type": "code",
   "execution_count": null,
   "metadata": {},
   "outputs": [],
   "source": [
    "PB_CON = df.groupby(['PaperlessBilling','Contract'])['Churn'].mean()\n",
    "PB_CON = pd.DataFrame(PB_CON)\n",
    "\n",
    "PB_CON = PB_CON.rename(columns = {'Churn':'Churn'})\n",
    "PB_CON['not churn'] = 1-PB_CON.Churn\n",
    "PB_CON['Churn'] = np.where(PB_CON['Churn']  == 0, 0.00001, PB_CON['Churn'])\n",
    "PB_CON['not churn'] = np.where(PB_CON['not churn']  == 0, 0.00001, PB_CON['not churn'])\n",
    "PB_CON['PB_CON_WoE'] = np.log(PB_CON.Churn/PB_CON['not churn'])\n",
    "PB_CON.reset_index(inplace=True)\n",
    "PB_CON = PB_CON[['PaperlessBilling','Contract','PB_CON_WoE']]\n",
    "PB_CON"
   ]
  },
  {
   "cell_type": "code",
   "execution_count": null,
   "metadata": {},
   "outputs": [],
   "source": [
    "OS_DEP = df.groupby(['OnlineSecurity','Dependents'])['Churn'].mean()\n",
    "OS_DEP = pd.DataFrame(OS_DEP)\n",
    "\n",
    "OS_DEP = OS_DEP.rename(columns = {'Churn':'Churn'})\n",
    "OS_DEP['not churn'] = 1-OS_DEP.Churn\n",
    "OS_DEP['Churn'] = np.where(OS_DEP['Churn']  == 0, 0.00001, OS_DEP['Churn'])\n",
    "OS_DEP['not churn'] = np.where(OS_DEP['not churn']  == 0, 0.00001, OS_DEP['not churn'])\n",
    "OS_DEP['OS_DEP_WoE'] = np.log(OS_DEP.Churn/OS_DEP['not churn'])\n",
    "OS_DEP.reset_index(inplace=True)\n",
    "OS_DEP = OS_DEP[['OnlineSecurity','Dependents','OS_DEP_WoE']]\n",
    "OS_DEP"
   ]
  },
  {
   "cell_type": "code",
   "execution_count": null,
   "metadata": {},
   "outputs": [],
   "source": [
    "CV_OS = df.groupby(['cust_val_cluster','OnlineSecurity'])['Churn'].mean()\n",
    "CV_OS = pd.DataFrame(CV_OS)\n",
    "\n",
    "CV_OS = CV_OS.rename(columns = {'Churn':'Churn'})\n",
    "CV_OS['not churn'] = 1-CV_OS.Churn\n",
    "CV_OS['Churn'] = np.where(CV_OS['Churn']  == 0, 0.00001, CV_OS['Churn'])\n",
    "CV_OS['not churn'] = np.where(CV_OS['not churn']  == 0, 0.00001, CV_OS['not churn'])\n",
    "CV_OS['CV_OS_WoE'] = np.log(CV_OS.Churn/CV_OS['not churn'])\n",
    "CV_OS.reset_index(inplace=True)\n",
    "CV_OS = CV_OS[['cust_val_cluster','OnlineSecurity','CV_OS_WoE']]\n",
    "CV_OS"
   ]
  },
  {
   "cell_type": "code",
   "execution_count": null,
   "metadata": {},
   "outputs": [],
   "source": [
    "CV_TS = df.groupby(['cust_val_cluster','TechSupport'])['Churn'].mean()\n",
    "CV_TS = pd.DataFrame(CV_TS)\n",
    "\n",
    "CV_TS = CV_TS.rename(columns = {'Churn':'Churn'})\n",
    "CV_TS['not churn'] = 1-CV_TS.Churn\n",
    "CV_TS['Churn'] = np.where(CV_TS['Churn']  == 0, 0.00001, CV_TS['Churn'])\n",
    "CV_TS['not churn'] = np.where(CV_TS['not churn']  == 0, 0.00001, CV_TS['not churn'])\n",
    "CV_TS['CV_TS_WoE'] = np.log(CV_TS.Churn/CV_TS['not churn'])\n",
    "CV_TS.reset_index(inplace=True)\n",
    "CV_TS = CV_TS[['cust_val_cluster','TechSupport','CV_TS_WoE']]\n",
    "CV_TS"
   ]
  },
  {
   "cell_type": "code",
   "execution_count": null,
   "metadata": {},
   "outputs": [],
   "source": [
    "MVT_IS = df.groupby(['month_vs_total_cluster','InternetService'])['Churn'].mean()\n",
    "MVT_IS = pd.DataFrame(MVT_IS)\n",
    "\n",
    "MVT_IS = MVT_IS.rename(columns = {'Churn':'Churn'})\n",
    "MVT_IS['not churn'] = 1-MVT_IS.Churn\n",
    "MVT_IS['Churn'] = np.where(MVT_IS['Churn']  == 0, 0.00001, MVT_IS['Churn'])\n",
    "MVT_IS['not churn'] = np.where(MVT_IS['not churn']  == 0, 0.00001, MVT_IS['not churn'])\n",
    "MVT_IS['MVT_IS_WoE'] = np.log(MVT_IS.Churn/MVT_IS['not churn'])\n",
    "MVT_IS.reset_index(inplace=True)\n",
    "MVT_IS = MVT_IS[['month_vs_total_cluster','InternetService','MVT_IS_WoE']]\n",
    "MVT_IS"
   ]
  },
  {
   "cell_type": "code",
   "execution_count": null,
   "metadata": {},
   "outputs": [],
   "source": [
    "CV_OB = df.groupby(['cust_val_cluster','OnlineBackup'])['Churn'].mean()\n",
    "CV_OB = pd.DataFrame(CV_OB)\n",
    "\n",
    "CV_OB = CV_OB.rename(columns = {'Churn':'Churn'})\n",
    "CV_OB['not churn'] = 1-CV_OB.Churn\n",
    "CV_OB['Churn'] = np.where(CV_OB['Churn']  == 0, 0.00001, CV_OB['Churn'])\n",
    "CV_OB['not churn'] = np.where(CV_OB['not churn']  == 0, 0.00001, CV_OB['not churn'])\n",
    "CV_OB['CV_OB_WoE'] = np.log(CV_OB.Churn/CV_OB['not churn'])\n",
    "CV_OB.reset_index(inplace=True)\n",
    "CV_OB = CV_OB[['cust_val_cluster','OnlineBackup','CV_OB_WoE']]\n",
    "CV_OB"
   ]
  },
  {
   "cell_type": "code",
   "execution_count": null,
   "metadata": {},
   "outputs": [],
   "source": [
    "CV_DP = df.groupby(['cust_val_cluster','DeviceProtection'])['Churn'].mean()\n",
    "CV_DP = pd.DataFrame(CV_DP)\n",
    "\n",
    "CV_DP = CV_DP.rename(columns = {'Churn':'Churn'})\n",
    "CV_DP['not churn'] = 1-CV_DP.Churn\n",
    "CV_DP['Churn'] = np.where(CV_DP['Churn']  == 0, 0.00001, CV_DP['Churn'])\n",
    "CV_DP['not churn'] = np.where(CV_DP['not churn']  == 0, 0.00001, CV_DP['not churn'])\n",
    "CV_DP['CV_DP_WoE'] = np.log(CV_DP.Churn/CV_DP['not churn'])\n",
    "CV_DP.reset_index(inplace=True)\n",
    "CV_DP = CV_DP[['cust_val_cluster','DeviceProtection','CV_DP_WoE']]\n",
    "CV_DP"
   ]
  },
  {
   "cell_type": "code",
   "execution_count": null,
   "metadata": {},
   "outputs": [],
   "source": [
    "CV_PB = df.groupby(['cust_val_cluster','PaperlessBilling'])['Churn'].mean()\n",
    "CV_PB = pd.DataFrame(CV_PB)\n",
    "\n",
    "CV_PB = CV_PB.rename(columns = {'Churn':'Churn'})\n",
    "CV_PB['not churn'] = 1-CV_PB.Churn\n",
    "CV_PB['Churn'] = np.where(CV_PB['Churn']  == 0, 0.00001, CV_PB['Churn'])\n",
    "CV_PB['not churn'] = np.where(CV_PB['not churn']  == 0, 0.00001, CV_PB['not churn'])\n",
    "CV_PB['CV_PB_WoE'] = np.log(CV_PB.Churn/CV_PB['not churn'])\n",
    "CV_PB.reset_index(inplace=True)\n",
    "CV_PB = CV_PB[['cust_val_cluster','PaperlessBilling','CV_PB_WoE']]\n",
    "CV_PB"
   ]
  },
  {
   "cell_type": "code",
   "execution_count": null,
   "metadata": {},
   "outputs": [],
   "source": [
    "CV_ST = df.groupby(['cust_val_cluster','StreamingTV'])['Churn'].mean()\n",
    "CV_ST = pd.DataFrame(CV_ST)\n",
    "\n",
    "CV_ST = CV_ST.rename(columns = {'Churn':'Churn'})\n",
    "CV_ST['not churn'] = 1-CV_ST.Churn\n",
    "CV_ST['Churn'] = np.where(CV_ST['Churn']  == 0, 0.00001, CV_ST['Churn'])\n",
    "CV_ST['not churn'] = np.where(CV_ST['not churn']  == 0, 0.00001, CV_ST['not churn'])\n",
    "CV_ST['CV_ST_WoE'] = np.log(CV_ST.Churn/CV_ST['not churn'])\n",
    "CV_ST.reset_index(inplace=True)\n",
    "CV_ST = CV_ST[['cust_val_cluster','StreamingTV','CV_ST_WoE']]\n",
    "CV_ST"
   ]
  },
  {
   "cell_type": "code",
   "execution_count": null,
   "metadata": {},
   "outputs": [],
   "source": [
    "CV_SM = df.groupby(['cust_val_cluster','StreamingMovies'])['Churn'].mean()\n",
    "CV_SM = pd.DataFrame(CV_SM)\n",
    "\n",
    "CV_SM = CV_SM.rename(columns = {'Churn':'Churn'})\n",
    "CV_SM['not churn'] = 1-CV_SM.Churn\n",
    "CV_SM['Churn'] = np.where(CV_SM['Churn']  == 0, 0.00001, CV_SM['Churn'])\n",
    "CV_SM['not churn'] = np.where(CV_SM['not churn']  == 0, 0.00001, CV_SM['not churn'])\n",
    "CV_SM['CV_SM_WoE'] = np.log(CV_SM.Churn/CV_SM['not churn'])\n",
    "CV_SM.reset_index(inplace=True)\n",
    "CV_SM = CV_SM[['cust_val_cluster','StreamingMovies','CV_SM_WoE']]\n",
    "CV_SM"
   ]
  },
  {
   "cell_type": "code",
   "execution_count": null,
   "metadata": {},
   "outputs": [],
   "source": [
    "CV_IS = df.groupby(['cust_val_cluster','InternetService'])['Churn'].mean()\n",
    "CV_IS = pd.DataFrame(CV_IS)\n",
    "\n",
    "CV_IS = CV_IS.rename(columns = {'Churn':'Churn'})\n",
    "CV_IS['not churn'] = 1-CV_IS.Churn\n",
    "CV_IS['Churn'] = np.where(CV_IS['Churn']  == 0, 0.00001, CV_IS['Churn'])\n",
    "CV_IS['not churn'] = np.where(CV_IS['not churn']  == 0, 0.00001, CV_IS['not churn'])\n",
    "CV_IS['CV_IS_WoE'] = np.log(CV_IS.Churn/CV_IS['not churn'])\n",
    "CV_IS.reset_index(inplace=True)\n",
    "CV_IS = CV_IS[['cust_val_cluster','InternetService','CV_IS_WoE']]\n",
    "CV_IS"
   ]
  },
  {
   "cell_type": "code",
   "execution_count": null,
   "metadata": {},
   "outputs": [],
   "source": [
    "MVT_PM = df.groupby(['month_vs_total_cluster','PaymentMethod'])['Churn'].mean()\n",
    "MVT_PM = pd.DataFrame(MVT_PM)\n",
    "\n",
    "MVT_PM = MVT_PM.rename(columns = {'Churn':'Churn'})\n",
    "MVT_PM['not churn'] = 1-MVT_PM.Churn\n",
    "MVT_PM['Churn'] = np.where(MVT_PM['Churn']  == 0, 0.00001, MVT_PM['Churn'])\n",
    "MVT_PM['not churn'] = np.where(MVT_PM['not churn']  == 0, 0.00001, MVT_PM['not churn'])\n",
    "MVT_PM['MVT_PM_WoE'] = np.log(MVT_PM.Churn/MVT_PM['not churn'])\n",
    "MVT_PM.reset_index(inplace=True)\n",
    "MVT_PM = MVT_PM[['month_vs_total_cluster','PaymentMethod','MVT_PM_WoE']]\n",
    "MVT_PM"
   ]
  },
  {
   "cell_type": "code",
   "execution_count": null,
   "metadata": {},
   "outputs": [],
   "source": [
    "CV_PM = df.groupby(['cust_val_cluster','PaymentMethod'])['Churn'].mean()\n",
    "CV_PM = pd.DataFrame(CV_PM)\n",
    "\n",
    "CV_PM = CV_PM.rename(columns = {'Churn':'Churn'})\n",
    "CV_PM['not churn'] = 1-CV_PM.Churn\n",
    "CV_PM['Churn'] = np.where(CV_PM['Churn']  == 0, 0.00001, CV_PM['Churn'])\n",
    "CV_PM['not churn'] = np.where(CV_PM['not churn']  == 0, 0.00001, CV_PM['not churn'])\n",
    "CV_PM['CV_PM_WoE'] = np.log(CV_PM.Churn/CV_PM['not churn'])\n",
    "CV_PM.reset_index(inplace=True)\n",
    "CV_PM = CV_PM[['cust_val_cluster','PaymentMethod','CV_PM_WoE']]\n",
    "CV_PM"
   ]
  },
  {
   "cell_type": "code",
   "execution_count": null,
   "metadata": {},
   "outputs": [],
   "source": [
    "CON_ST = df.groupby(['Contract','StreamingTV'])['Churn'].mean()\n",
    "CON_ST = pd.DataFrame(CON_ST)\n",
    "\n",
    "CON_ST = CON_ST.rename(columns = {'Churn':'Churn'})\n",
    "CON_ST['not churn'] = 1-CON_ST.Churn\n",
    "CON_ST['Churn'] = np.where(CON_ST['Churn']  == 0, 0.00001, CON_ST['Churn'])\n",
    "CON_ST['not churn'] = np.where(CON_ST['not churn']  == 0, 0.00001, CON_ST['not churn'])\n",
    "CON_ST['CON_ST_WoE'] = np.log(CON_ST.Churn/CON_ST['not churn'])\n",
    "CON_ST.reset_index(inplace=True)\n",
    "CON_ST = CON_ST[['Contract','StreamingTV','CON_ST_WoE']]\n",
    "CON_ST"
   ]
  },
  {
   "cell_type": "code",
   "execution_count": null,
   "metadata": {},
   "outputs": [],
   "source": [
    "CON_SM = df.groupby(['Contract','StreamingMovies'])['Churn'].mean()\n",
    "CON_SM = pd.DataFrame(CON_SM)\n",
    "\n",
    "CON_SM = CON_SM.rename(columns = {'Churn':'Churn'})\n",
    "CON_SM['not churn'] = 1-CON_SM.Churn\n",
    "CON_SM['Churn'] = np.where(CON_SM['Churn']  == 0, 0.00001, CON_SM['Churn'])\n",
    "CON_SM['not churn'] = np.where(CON_SM['not churn']  == 0, 0.00001, CON_SM['not churn'])\n",
    "CON_SM['CON_SM_WoE'] = np.log(CON_SM.Churn/CON_SM['not churn'])\n",
    "CON_SM.reset_index(inplace=True)\n",
    "CON_SM = CON_SM[['Contract','StreamingMovies','CON_SM_WoE']]\n",
    "CON_SM"
   ]
  },
  {
   "cell_type": "code",
   "execution_count": null,
   "metadata": {},
   "outputs": [],
   "source": [
    "CON_SC = df.groupby(['Contract','SeniorCitizen'])['Churn'].mean()\n",
    "CON_SC = pd.DataFrame(CON_SC)\n",
    "\n",
    "CON_SC = CON_SC.rename(columns = {'Churn':'Churn'})\n",
    "CON_SC['not churn'] = 1-CON_SC.Churn\n",
    "CON_SC['Churn'] = np.where(CON_SC['Churn']  == 0, 0.00001, CON_SC['Churn'])\n",
    "CON_SC['not churn'] = np.where(CON_SC['not churn']  == 0, 0.00001, CON_SC['not churn'])\n",
    "CON_SC['CON_SC_WoE'] = np.log(CON_SC.Churn/CON_SC['not churn'])\n",
    "CON_SC.reset_index(inplace=True)\n",
    "CON_SC = CON_SC[['Contract','SeniorCitizen','CON_SC_WoE']]\n",
    "CON_SC"
   ]
  },
  {
   "cell_type": "code",
   "execution_count": null,
   "metadata": {},
   "outputs": [],
   "source": [
    "df_woe = df.merge(CON_PS, on=['Contract','PhoneService'])\n",
    "df_woe = df_woe.merge(CON_DEP, on=['Contract','Dependents'])\n",
    "df_woe = df_woe.merge(CON_TS, on=['Contract','TechSupport'])\n",
    "df_woe = df_woe.merge(CON_OS, on=['Contract','OnlineSecurity'])\n",
    "df_woe = df_woe.merge(PS_OS, on=['PhoneService','OnlineSecurity'])\n",
    "\n",
    "\n",
    "df_woe = df_woe.merge(PS_TS, on=['PhoneService','TechSupport'])\n",
    "df_woe = df_woe.merge(PS_IS, on=['PhoneService','InternetService'])\n",
    "df_woe = df_woe.merge(TS_OS, on=['TechSupport','OnlineSecurity'])\n",
    "df_woe = df_woe.merge(PB_CON, on=['PaperlessBilling','Contract'])\n",
    "df_woe = df_woe.merge(OS_DEP, on=['OnlineSecurity','Dependents'])\n",
    "\n",
    "\n",
    "df_woe = df_woe.merge(CV_OS, on=['cust_val_cluster','OnlineSecurity'])\n",
    "df_woe = df_woe.merge(CV_TS, on=['cust_val_cluster','TechSupport'])\n",
    "df_woe = df_woe.merge(MVT_IS, on=['month_vs_total_cluster','InternetService'])\n",
    "df_woe = df_woe.merge(CV_OB, on=['cust_val_cluster','OnlineBackup'])\n",
    "df_woe = df_woe.merge(CV_DP, on=['cust_val_cluster','DeviceProtection'])\n",
    "\n",
    "df_woe = df_woe.merge(CV_PB, on=['cust_val_cluster','PaperlessBilling'])\n",
    "df_woe = df_woe.merge(CV_ST, on=['cust_val_cluster','StreamingTV'])\n",
    "df_woe = df_woe.merge(CV_SM, on=['cust_val_cluster','StreamingMovies'])\n",
    "df_woe = df_woe.merge(CV_IS, on=['cust_val_cluster','InternetService'])\n",
    "df_woe = df_woe.merge(MVT_PM, on=['month_vs_total_cluster','PaymentMethod'])\n",
    "\n",
    "df_woe = df_woe.merge(CV_PM, on=['cust_val_cluster','PaymentMethod'])\n",
    "df_woe = df_woe.merge(CON_ST, on=['Contract','StreamingTV'])\n",
    "df_woe = df_woe.merge(CON_SM, on=['Contract','StreamingMovies'])\n",
    "df_woe = df_woe.merge(CON_SC, on=['Contract','SeniorCitizen'])\n"
   ]
  },
  {
   "cell_type": "markdown",
   "metadata": {},
   "source": [
    "# Model Training (With customer profiling data) -with feature selection and imbalanced dataset handling"
   ]
  },
  {
   "cell_type": "code",
   "execution_count": null,
   "metadata": {
    "scrolled": true
   },
   "outputs": [],
   "source": [
    "dfx = df_woe.drop(columns = ['Churn'])\n",
    "dfy = df_woe.Churn"
   ]
  },
  {
   "cell_type": "code",
   "execution_count": null,
   "metadata": {},
   "outputs": [],
   "source": [
    "X_train, X_test, y_train, y_test = train_test_split(dfx, dfy, test_size=0.2, random_state=88)"
   ]
  },
  {
   "cell_type": "code",
   "execution_count": null,
   "metadata": {},
   "outputs": [],
   "source": [
    "X_train['Churn'] = y_train\n",
    "X_test['Churn'] = y_test"
   ]
  },
  {
   "cell_type": "code",
   "execution_count": null,
   "metadata": {},
   "outputs": [],
   "source": [
    "#X_train.to_csv(r'C:\\Users\\Admin\\Documents\\Capstone Project\\Experiment 104\\xy_train_20210830.csv', index = False)\n",
    "#X_test.to_csv(r'C:\\Users\\Admin\\Documents\\Capstone Project\\Experiment 104\\xy_test_20210830.csv', index = False)"
   ]
  },
  {
   "cell_type": "code",
   "execution_count": null,
   "metadata": {},
   "outputs": [],
   "source": [
    "df_train = X_train[['customerID', 'gender', 'SeniorCitizen', 'Partner', 'Dependents',\n",
    "       'tenure', 'PhoneService', 'MultipleLines', 'InternetService',\n",
    "       'OnlineSecurity', 'OnlineBackup', 'DeviceProtection', 'TechSupport',\n",
    "       'StreamingTV', 'StreamingMovies', 'Contract', 'PaperlessBilling',\n",
    "       'PaymentMethod', 'MonthlyCharges', 'TotalCharges', 'Satisfaction Score',\n",
    "       'Churn', 'tenure_log', 'MonthlyCharges_log', 'TotalCharges_log',\n",
    "       'cust_val_cluster', 'month_vs_total_cluster', 'CON_PS_WoE',\n",
    "       'CON_DEP_WoE', 'CON_TS_WoE', 'CON_OS_WoE', 'PS_OS_WoE', 'PS_TS_WoE',\n",
    "       'PS_IS_WoE', 'TS_OS_WoE', 'PB_CON_WoE', 'OS_DEP_WoE', 'CV_OS_WoE',\n",
    "       'CV_TS_WoE', 'MVT_IS_WoE', 'CV_OB_WoE', 'CV_DP_WoE', 'CV_PB_WoE_x',\n",
    "       'CV_ST_WoE_x', 'CV_SM_WoE_x', 'CV_IS_WoE_x', 'CV_PB_WoE_y',\n",
    "       'CV_ST_WoE_y', 'CV_SM_WoE_y', 'CV_IS_WoE_y', 'MVT_PM_WoE', 'CV_PM_WoE',\n",
    "       'CON_ST_WoE', 'CON_SM_WoE', 'CON_SC_WoE']]\n",
    "\n",
    "df_test = X_test[['customerID', 'gender', 'SeniorCitizen', 'Partner', 'Dependents',\n",
    "       'tenure', 'PhoneService', 'MultipleLines', 'InternetService',\n",
    "       'OnlineSecurity', 'OnlineBackup', 'DeviceProtection', 'TechSupport',\n",
    "       'StreamingTV', 'StreamingMovies', 'Contract', 'PaperlessBilling',\n",
    "       'PaymentMethod', 'MonthlyCharges', 'TotalCharges', 'Satisfaction Score',\n",
    "       'Churn', 'tenure_log', 'MonthlyCharges_log', 'TotalCharges_log',\n",
    "       'cust_val_cluster', 'month_vs_total_cluster', 'CON_PS_WoE',\n",
    "       'CON_DEP_WoE', 'CON_TS_WoE', 'CON_OS_WoE', 'PS_OS_WoE', 'PS_TS_WoE',\n",
    "       'PS_IS_WoE', 'TS_OS_WoE', 'PB_CON_WoE', 'OS_DEP_WoE', 'CV_OS_WoE',\n",
    "       'CV_TS_WoE', 'MVT_IS_WoE', 'CV_OB_WoE', 'CV_DP_WoE', 'CV_PB_WoE_x',\n",
    "       'CV_ST_WoE_x', 'CV_SM_WoE_x', 'CV_IS_WoE_x', 'CV_PB_WoE_y',\n",
    "       'CV_ST_WoE_y', 'CV_SM_WoE_y', 'CV_IS_WoE_y', 'MVT_PM_WoE', 'CV_PM_WoE',\n",
    "       'CON_ST_WoE', 'CON_SM_WoE', 'CON_SC_WoE']]\n"
   ]
  },
  {
   "cell_type": "code",
   "execution_count": null,
   "metadata": {},
   "outputs": [],
   "source": [
    "from pycaret.classification import *"
   ]
  },
  {
   "cell_type": "code",
   "execution_count": null,
   "metadata": {},
   "outputs": [],
   "source": [
    "from imblearn.over_sampling import ADASYN\n",
    "clf1 = setup(data = df_train, target = 'Churn', test_data = df_test,\n",
    "             feature_selection = True, feature_selection_threshold = 0.7, feature_selection_method = 'boruta',\n",
    "             ignore_features = ['customerID','CV_PB_WoE_y',\n",
    "       'CV_ST_WoE_y', 'CV_SM_WoE_y', 'CV_IS_WoE_y','Satisfaction Score', 'gender', 'SeniorCitizen', 'Partner', 'Dependents',\n",
    "       'tenure', 'PhoneService', 'MultipleLines', 'InternetService',\n",
    "       'OnlineSecurity', 'OnlineBackup', 'DeviceProtection', 'TechSupport',\n",
    "       'StreamingTV', 'StreamingMovies', 'Contract', 'PaperlessBilling',\n",
    "       'PaymentMethod', 'MonthlyCharges', 'TotalCharges', 'Satisfaction Score'], \n",
    "            fix_imbalance=True, fix_imbalance_method= ADASYN()\n",
    "            )"
   ]
  },
  {
   "cell_type": "markdown",
   "metadata": {},
   "source": [
    "# Model LR-CP"
   ]
  },
  {
   "cell_type": "code",
   "execution_count": null,
   "metadata": {},
   "outputs": [],
   "source": [
    "lr = create_model('lr')\n",
    "tuned_lr = tune_model(lr, n_iter = 200, fold = 5, optimize = 'F1')"
   ]
  },
  {
   "cell_type": "markdown",
   "metadata": {},
   "source": [
    "# Model RF-CP"
   ]
  },
  {
   "cell_type": "code",
   "execution_count": null,
   "metadata": {},
   "outputs": [],
   "source": [
    "rf = create_model('rf')\n",
    "tuned_rf = tune_model(rf, n_iter = 200, fold = 5, optimize = 'F1')"
   ]
  },
  {
   "cell_type": "markdown",
   "metadata": {},
   "source": [
    "# Model GBC-CP"
   ]
  },
  {
   "cell_type": "code",
   "execution_count": null,
   "metadata": {},
   "outputs": [],
   "source": [
    "gbc = create_model('gbc')\n",
    "tuned_gbc = tune_model(gbc, n_iter = 200, fold = 5, optimize = 'F1')"
   ]
  },
  {
   "cell_type": "markdown",
   "metadata": {},
   "source": [
    "# Model LGBM-CP"
   ]
  },
  {
   "cell_type": "code",
   "execution_count": null,
   "metadata": {},
   "outputs": [],
   "source": [
    "lgb = create_model('lightgbm')\n",
    "tuned_lgb = tune_model(lgb, n_iter = 200, fold = 5, optimize = 'F1')"
   ]
  },
  {
   "cell_type": "markdown",
   "metadata": {},
   "source": [
    "# Model XGB-CP"
   ]
  },
  {
   "cell_type": "code",
   "execution_count": null,
   "metadata": {},
   "outputs": [],
   "source": [
    "xgb = create_model('xgboost')\n",
    "tuned_xgb = tune_model(xgb, n_iter = 200, fold = 5, optimize = 'F1')"
   ]
  },
  {
   "cell_type": "markdown",
   "metadata": {},
   "source": [
    "# Model SVM-CP"
   ]
  },
  {
   "cell_type": "code",
   "execution_count": null,
   "metadata": {},
   "outputs": [],
   "source": [
    "svm = create_model('rbfsvm')\n",
    "tuned_svm = tune_model(svm, n_iter = 200, fold = 5, optimize = 'F1')"
   ]
  },
  {
   "cell_type": "markdown",
   "metadata": {},
   "source": [
    "# Model Evaluation (Models with Customer Profiling Data)"
   ]
  },
  {
   "cell_type": "code",
   "execution_count": null,
   "metadata": {},
   "outputs": [],
   "source": [
    "evaluate_model(tuned_lr)"
   ]
  },
  {
   "cell_type": "code",
   "execution_count": null,
   "metadata": {},
   "outputs": [],
   "source": [
    "evaluate_model(tuned_rf)"
   ]
  },
  {
   "cell_type": "code",
   "execution_count": null,
   "metadata": {},
   "outputs": [],
   "source": [
    "evaluate_model(tuned_gbc)"
   ]
  },
  {
   "cell_type": "code",
   "execution_count": null,
   "metadata": {},
   "outputs": [],
   "source": [
    "evaluate_model(tuned_lgb)"
   ]
  },
  {
   "cell_type": "code",
   "execution_count": null,
   "metadata": {},
   "outputs": [],
   "source": [
    "evaluate_model(tuned_xgb)"
   ]
  },
  {
   "cell_type": "code",
   "execution_count": null,
   "metadata": {},
   "outputs": [],
   "source": [
    "evaluate_model(tuned_svm)"
   ]
  },
  {
   "cell_type": "code",
   "execution_count": null,
   "metadata": {},
   "outputs": [],
   "source": []
  },
  {
   "cell_type": "markdown",
   "metadata": {},
   "source": [
    "# Model Training (Without customer profiling data) -with feature selection and imbalanced dataset handling"
   ]
  },
  {
   "cell_type": "code",
   "execution_count": null,
   "metadata": {},
   "outputs": [],
   "source": [
    "train = pd.read_csv(r'C:\\Users\\Admin\\Documents\\Capstone Project\\Experiment 104\\xy_train_20210830.csv')\n",
    "test = pd.read_csv(r'C:\\Users\\Admin\\Documents\\Capstone Project\\Experiment 104\\xy_test_20210830.csv')"
   ]
  },
  {
   "cell_type": "code",
   "execution_count": null,
   "metadata": {},
   "outputs": [],
   "source": [
    "df_train = train[['gender', 'SeniorCitizen', 'Partner', 'Dependents',\n",
    "       'tenure', 'PhoneService', 'MultipleLines', 'InternetService',\n",
    "       'OnlineSecurity', 'OnlineBackup', 'DeviceProtection', 'TechSupport',\n",
    "       'StreamingTV', 'StreamingMovies', 'Contract', 'PaperlessBilling',\n",
    "       'PaymentMethod', 'MonthlyCharges', 'TotalCharges','Churn']]\n",
    "\n",
    "df_test = test[['gender', 'SeniorCitizen', 'Partner', 'Dependents',\n",
    "       'tenure', 'PhoneService', 'MultipleLines', 'InternetService',\n",
    "       'OnlineSecurity', 'OnlineBackup', 'DeviceProtection', 'TechSupport',\n",
    "       'StreamingTV', 'StreamingMovies', 'Contract', 'PaperlessBilling',\n",
    "       'PaymentMethod', 'MonthlyCharges', 'TotalCharges','Churn']]"
   ]
  },
  {
   "cell_type": "code",
   "execution_count": null,
   "metadata": {},
   "outputs": [],
   "source": [
    "from imblearn.over_sampling import ADASYN\n",
    "clf1 = setup(data = df_train, target = 'Churn', test_data = df_test, normalize = True, \n",
    "             feature_selection = True, feature_selection_threshold = 0.7, feature_selection_method = 'boruta',\n",
    "             \n",
    "            fix_imbalance=True, fix_imbalance_method= ADASYN()\n",
    "            )"
   ]
  },
  {
   "cell_type": "markdown",
   "metadata": {},
   "source": [
    "# Model LR"
   ]
  },
  {
   "cell_type": "code",
   "execution_count": null,
   "metadata": {},
   "outputs": [],
   "source": [
    "lr = create_model('lr')\n",
    "tuned_lr = tune_model(lr, n_iter = 200, fold = 5, optimize = 'F1')"
   ]
  },
  {
   "cell_type": "markdown",
   "metadata": {},
   "source": [
    "# Model RF"
   ]
  },
  {
   "cell_type": "code",
   "execution_count": null,
   "metadata": {},
   "outputs": [],
   "source": [
    "rf = create_model('rf')\n",
    "tuned_rf = tune_model(rf, n_iter = 200, fold = 5, optimize = 'F1')"
   ]
  },
  {
   "cell_type": "markdown",
   "metadata": {},
   "source": [
    "# Model GBC"
   ]
  },
  {
   "cell_type": "code",
   "execution_count": null,
   "metadata": {},
   "outputs": [],
   "source": [
    "gbc = create_model('gbc')\n",
    "tuned_gbc = tune_model(gbc, n_iter = 200, fold = 5, optimize = 'F1')"
   ]
  },
  {
   "cell_type": "markdown",
   "metadata": {},
   "source": [
    "# Model LGB"
   ]
  },
  {
   "cell_type": "code",
   "execution_count": null,
   "metadata": {},
   "outputs": [],
   "source": [
    "lgb = create_model('lightgbm')\n",
    "tuned_lgb = tune_model(lgb, n_iter = 200, fold = 5, optimize = 'F1')"
   ]
  },
  {
   "cell_type": "markdown",
   "metadata": {},
   "source": [
    "# Model XGB"
   ]
  },
  {
   "cell_type": "code",
   "execution_count": null,
   "metadata": {},
   "outputs": [],
   "source": [
    "xgb = create_model('xgboost')\n",
    "tuned_xgb = tune_model(xgb, n_iter = 200, fold = 5, optimize = 'F1')"
   ]
  },
  {
   "cell_type": "markdown",
   "metadata": {},
   "source": [
    "# Model SVM"
   ]
  },
  {
   "cell_type": "code",
   "execution_count": null,
   "metadata": {},
   "outputs": [],
   "source": [
    "svm = create_model('rbfsvm')\n",
    "tuned_svm = tune_model(svm, n_iter = 200, fold = 5, optimize = 'F1')"
   ]
  },
  {
   "cell_type": "code",
   "execution_count": null,
   "metadata": {},
   "outputs": [],
   "source": []
  },
  {
   "cell_type": "markdown",
   "metadata": {},
   "source": [
    "# Model Evaluation (Models with Customer Profiling Data)"
   ]
  },
  {
   "cell_type": "code",
   "execution_count": null,
   "metadata": {},
   "outputs": [],
   "source": [
    "evaluate_model(tuned_lr)"
   ]
  },
  {
   "cell_type": "code",
   "execution_count": null,
   "metadata": {},
   "outputs": [],
   "source": [
    "evaluate_model(tuned_rf)"
   ]
  },
  {
   "cell_type": "code",
   "execution_count": null,
   "metadata": {},
   "outputs": [],
   "source": [
    "evaluate_model(tuned_gbc)"
   ]
  },
  {
   "cell_type": "code",
   "execution_count": null,
   "metadata": {},
   "outputs": [],
   "source": [
    "evaluate_model(tuned_lgb)"
   ]
  },
  {
   "cell_type": "code",
   "execution_count": null,
   "metadata": {},
   "outputs": [],
   "source": [
    "evaluate_model(tuned_xgb)"
   ]
  },
  {
   "cell_type": "code",
   "execution_count": null,
   "metadata": {},
   "outputs": [],
   "source": [
    "evaluate_model(tuned_svm)"
   ]
  }
 ],
 "metadata": {
  "kernelspec": {
   "display_name": "Python 3",
   "language": "python",
   "name": "python3"
  },
  "language_info": {
   "codemirror_mode": {
    "name": "ipython",
    "version": 3
   },
   "file_extension": ".py",
   "mimetype": "text/x-python",
   "name": "python",
   "nbconvert_exporter": "python",
   "pygments_lexer": "ipython3",
   "version": "3.8.5"
  }
 },
 "nbformat": 4,
 "nbformat_minor": 4
}
